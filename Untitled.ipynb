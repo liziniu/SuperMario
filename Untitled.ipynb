{
 "cells": [
  {
   "cell_type": "markdown",
   "metadata": {},
   "source": [
    "## Data Preprocess"
   ]
  },
  {
   "cell_type": "code",
   "execution_count": 1,
   "metadata": {
    "collapsed": true
   },
   "outputs": [],
   "source": [
    "import pickle\n",
    "import numpy as np\n",
    "import matplotlib.pyplot as plt\n",
    "from matplotlib.colors import Colormap, Normalize\n",
    "import pandas as pd\n",
    "import seaborn as sns\n",
    "# plt.style.use(\"ggplot\")"
   ]
  },
  {
   "cell_type": "code",
   "execution_count": 6,
   "metadata": {},
   "outputs": [
    {
     "name": "stdout",
     "output_type": "stream",
     "text": [
      "Episode: 9\n"
     ]
    }
   ],
   "source": [
    "f = open(\"logs/2019-04-23-17-44-57-610411/data.pkl\", \"rb\")\n",
    "raw_data = []\n",
    "while True:\n",
    "    try:\n",
    "        raw_data.append(pickle.load(f))\n",
    "    except Exception as e:\n",
    "        break\n",
    "print(\"Episode:\", len(raw_data))"
   ]
  },
  {
   "cell_type": "code",
   "execution_count": 3,
   "metadata": {},
   "outputs": [
    {
     "name": "stdout",
     "output_type": "stream",
     "text": [
      "# of samples: 13877\n"
     ]
    }
   ],
   "source": [
    "def preprocess_data(data):\n",
    "    keys = [\"obs\", \"x_pos\", \"y_pos\"]\n",
    "    data_new = {key: [] for key in keys}\n",
    "    for episode_data in data:\n",
    "        for key in keys:\n",
    "            data_new[key].extend(episode_data[key])\n",
    "    return data_new\n",
    "data = preprocess_data(raw_data)\n",
    "nb_samples = len(data[\"x_pos\"])\n",
    "print(\"# of samples:\", nb_samples)"
   ]
  },
  {
   "cell_type": "code",
   "execution_count": 4,
   "metadata": {},
   "outputs": [
    {
     "data": {
      "image/png": "[encoded data removed]",
      "text/plain": [
       "<matplotlib.figure.Figure at 0x1a1caf8390>"
      ]
     },
     "metadata": {},
     "output_type": "display_data"
    }
   ],
   "source": [
    "plt.figure()\n",
    "plt.scatter(data[\"x_pos\"], data[\"y_pos\"])\n",
    "plt.show()"
   ]
  },
  {
   "cell_type": "code",
   "execution_count": 5,
   "metadata": {
    "collapsed": true
   },
   "outputs": [],
   "source": [
    "data_df = pd.DataFrame({\"x_pos\": data[\"x_pos\"], \"y_pos\": data[\"y_pos\"]})"
   ]
  },
  {
   "cell_type": "markdown",
   "metadata": {},
   "source": [
    "## RND Learning"
   ]
  },
  {
   "cell_type": "code",
   "execution_count": 6,
   "metadata": {},
   "outputs": [
    {
     "name": "stderr",
     "output_type": "stream",
     "text": [
      "/Users/liziniu/anaconda3/lib/python3.6/site-packages/h5py/__init__.py:34: FutureWarning: Conversion of the second argument of issubdtype from `float` to `np.floating` is deprecated. In future, it will be treated as `np.float64 == np.dtype(float).type`.\n",
      "  from ._conv import register_converters as _register_converters\n"
     ]
    }
   ],
   "source": [
    "import tensorflow as tf\n",
    "from baselines.a2c.utils import conv, conv_to_fc, fc\n",
    "sess = tf.Session()"
   ]
  },
  {
   "cell_type": "code",
   "execution_count": 7,
   "metadata": {
    "collapsed": true
   },
   "outputs": [],
   "source": [
    "def cnn(unscaled_images, scope):\n",
    "    scaled_images = tf.cast(unscaled_images, tf.float32) / 255.\n",
    "    activ = tf.nn.relu\n",
    "    h = activ(conv(scaled_images, scope+'c1', nf=32, rf=8, stride=4, init_scale=np.sqrt(2)))\n",
    "    h2 = activ(conv(h, scope+'c2', nf=64, rf=4, stride=2, init_scale=np.sqrt(2)))\n",
    "    h3 = activ(conv(h2, scope+'c3', nf=64, rf=3, stride=1, init_scale=np.sqrt(2)))\n",
    "    h3 = conv_to_fc(h3)\n",
    "    return activ(fc(h3, scope+'fc1', nh=512, init_scale=np.sqrt(2)))"
   ]
  },
  {
   "cell_type": "code",
   "execution_count": 8,
   "metadata": {
    "collapsed": true
   },
   "outputs": [],
   "source": [
    "class Model:\n",
    "    def __init__(self, sess=None):\n",
    "        self.x = tf.placeholder(tf.float32, [None, 84, 84, 4], \"image_input\")\n",
    "        with tf.variable_scope(\"target\"):\n",
    "            self.feat = cnn(self.x, scope=\"target\")      # cnn includes cnn_to_fc\n",
    "        with tf.variable_scope(\"prediction\"):\n",
    "            self.feat_hat = cnn(self.x, scope=\"prediction\")\n",
    "\n",
    "        self.opt = tf.train.AdamOptimizer(1e-3)\n",
    "        self.loss = tf.reduce_mean(tf.square(tf.stop_gradient(self.feat) - self.feat_hat))\n",
    "        self.int_rew = tf.reduce_mean(tf.square(self.feat - self.feat_hat), axis=-1)\n",
    "        self.train_op = self.opt.minimize(self.loss)\n",
    "\n",
    "        self.sess = sess or tf.Session()\n",
    "\n",
    "        self.train_history = []\n",
    "\n",
    "    def get_reward(self, x):\n",
    "        return self.sess.run(self.int_rew, feed_dict={self.x: x})\n",
    "\n",
    "    def train(self, data, rollout_size, batch_size, nb_opt, online=True, plot=False, norm=False):\n",
    "        x = data[\"obs\"]\n",
    "        nb_sample = len(x)\n",
    "        nb_rollout = nb_sample//rollout_size\n",
    "        for i in range(nb_rollout):\n",
    "            if online:\n",
    "                samples = x[i*rollout_size:(i+1)*rollout_size]\n",
    "            else:\n",
    "                samples = x[:(i+1)*rollout_size]\n",
    "            if plot:\n",
    "                x_pos_plot, y_pos_plot = data[\"x_pos\"][:(i+1)*rollout_size], data[\"y_pos\"][:(i+1)*rollout_size]\n",
    "                obs_plot = data[\"obs\"][:(i+1)*rollout_size]\n",
    "                int_rew = self.get_reward(obs_plot)\n",
    "                df_tmp = pd.DataFrame({\"x_pos\": x_pos_plot, \"y_pos\": y_pos_plot, \"int_rew\": int_rew})\n",
    "                plt.figure()\n",
    "                if norm:\n",
    "                    sns.scatterplot(x=\"x_pos\", y=\"y_pos\", hue=\"int_rew\", hue_norm=Normalize(), data=df_tmp)\n",
    "                else:\n",
    "                    sns.scatterplot(x=\"x_pos\", y=\"y_pos\", hue=\"int_rew\", data=df_tmp)\n",
    "                plt.savefig(\"logs/3/{}.png\".format(i))\n",
    "                plt.close()\n",
    "            for j in range(nb_opt):\n",
    "                np.random.shuffle(samples)\n",
    "                for start in range(0, rollout_size, batch_size):\n",
    "                    minibatch = samples[start: start+batch_size]\n",
    "                    loss, _ = self.sess.run([self.loss, self.train_op], feed_dict={self.x: minibatch})\n",
    "                    self.train_history.append({\n",
    "                            \"rollout_id\": i,\n",
    "                            \"opt_id\": j,\n",
    "                            \"loss\": loss\n",
    "                         })"
   ]
  },
  {
   "cell_type": "code",
   "execution_count": 9,
   "metadata": {
    "collapsed": true
   },
   "outputs": [],
   "source": [
    "model = Model(sess)\n",
    "sess.run(tf.global_variables_initializer())"
   ]
  },
  {
   "cell_type": "markdown",
   "metadata": {},
   "source": [
    "###  training"
   ]
  },
  {
   "cell_type": "code",
   "execution_count": 10,
   "metadata": {
    "collapsed": true
   },
   "outputs": [],
   "source": [
    "model.train(data, rollout_size=256, batch_size=64, nb_opt=4, online=False, plot=True, norm=False)"
   ]
  },
  {
   "cell_type": "code",
   "execution_count": 11,
   "metadata": {},
   "outputs": [
    {
     "data": {
      "image/png": "[encoded data removed]",
      "text/plain": [
       "<matplotlib.figure.Figure at 0x1a1bf0b240>"
      ]
     },
     "metadata": {},
     "output_type": "display_data"
    }
   ],
   "source": [
    "loss = [x[\"loss\"] for x in model.train_history]\n",
    "plt.figure()\n",
    "plt.plot(loss)\n",
    "plt.yscale(\"log\")\n",
    "plt.show()"
   ]
  },
  {
   "cell_type": "code",
   "execution_count": null,
   "metadata": {
    "collapsed": true
   },
   "outputs": [],
   "source": []
  }
 ],
 "metadata": {
  "kernelspec": {
   "display_name": "Python 3",
   "language": "python",
   "name": "python3"
  },
  "language_info": {
   "codemirror_mode": {
    "name": "ipython",
    "version": 3
   },
   "file_extension": ".py",
   "mimetype": "text/x-python",
   "name": "python",
   "nbconvert_exporter": "python",
   "pygments_lexer": "ipython3",
   "version": "3.6.3"
  },
  "toc": {
   "base_numbering": 1,
   "nav_menu": {},
   "number_sections": true,
   "sideBar": true,
   "skip_h1_title": false,
   "title_cell": "Table of Contents",
   "title_sidebar": "Contents",
   "toc_cell": false,
   "toc_position": {
    "height": "calc(100% - 180px)",
    "left": "10px",
    "top": "150px",
    "width": "215px"
   },
   "toc_section_display": true,
   "toc_window_display": true
  }
 },
 "nbformat": 4,
 "nbformat_minor": 2
}
